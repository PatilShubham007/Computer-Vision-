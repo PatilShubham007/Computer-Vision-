{
 "cells": [
  {
   "cell_type": "code",
   "execution_count": 1,
   "metadata": {},
   "outputs": [
    {
     "ename": "error",
     "evalue": "OpenCV(4.2.0) C:\\projects\\opencv-python\\opencv\\modules\\highgui\\src\\window.cpp:376: error: (-215:Assertion failed) size.width>0 && size.height>0 in function 'cv::imshow'\n",
     "output_type": "error",
     "traceback": [
      "\u001b[1;31m---------------------------------------------------------------------------\u001b[0m",
      "\u001b[1;31merror\u001b[0m                                     Traceback (most recent call last)",
      "\u001b[1;32m<ipython-input-1-86dc23b02359>\u001b[0m in \u001b[0;36m<module>\u001b[1;34m\u001b[0m\n\u001b[0;32m     40\u001b[0m \u001b[1;33m\u001b[0m\u001b[0m\n\u001b[0;32m     41\u001b[0m     \u001b[1;31m# Show it\u001b[0m\u001b[1;33m\u001b[0m\u001b[1;33m\u001b[0m\u001b[1;33m\u001b[0m\u001b[0m\n\u001b[1;32m---> 42\u001b[1;33m     \u001b[0mcv2\u001b[0m\u001b[1;33m.\u001b[0m\u001b[0mimshow\u001b[0m\u001b[1;33m(\u001b[0m\u001b[1;34m'frame'\u001b[0m\u001b[1;33m,\u001b[0m \u001b[0mframe\u001b[0m\u001b[1;33m)\u001b[0m\u001b[1;33m\u001b[0m\u001b[1;33m\u001b[0m\u001b[0m\n\u001b[0m\u001b[0;32m     43\u001b[0m \u001b[1;33m\u001b[0m\u001b[0m\n\u001b[0;32m     44\u001b[0m     \u001b[1;31m# 27 == esc button. You can use any other button like ord('q')\u001b[0m\u001b[1;33m\u001b[0m\u001b[1;33m\u001b[0m\u001b[1;33m\u001b[0m\u001b[0m\n",
      "\u001b[1;31merror\u001b[0m: OpenCV(4.2.0) C:\\projects\\opencv-python\\opencv\\modules\\highgui\\src\\window.cpp:376: error: (-215:Assertion failed) size.width>0 && size.height>0 in function 'cv::imshow'\n"
     ]
    }
   ],
   "source": [
    "# Import Libraries\n",
    "\n",
    "import cv2\n",
    "\n",
    "# Take a video. 0 means the camera of my computer\n",
    "cap= cv2.VideoCapture(0)\n",
    "\n",
    "\n",
    "# Get the Width and Height of the Video Frame\n",
    "width = int(cap.get(cv2.CAP_PROP_FRAME_WIDTH))\n",
    "height = int(cap.get(cv2.CAP_PROP_FRAME_HEIGHT))\n",
    "\n",
    "# Top Left Corner\n",
    "# We devide with // the Width and Height of the Frame\n",
    "# in order to get an Integer as a Result\n",
    "x=width//2\n",
    "y=height//2\n",
    "\n",
    "\n",
    "# Rectangle Width and Height\n",
    "# 1/4 of the Actual Video Screen\n",
    "w=width // 4\n",
    "h= height // 4\n",
    "\n",
    "\n",
    "# Bottom Right Corner == x + w, y + h\n",
    "\n",
    "\n",
    "\n",
    "# It's a kind of Magic!\n",
    "while True:\n",
    "    \n",
    "    ret,frame = cap.read()\n",
    "\n",
    "    # Rectangle Frame\n",
    "    cv2.rectangle(frame, (x,y),\n",
    "                 (x+w, y+h),\n",
    "                 color=(255,0,255),\n",
    "                 thickness=5)\n",
    "    \n",
    "    # Show it\n",
    "    cv2.imshow('frame', frame)\n",
    "    \n",
    "    # 27 == esc button. You can use any other button like ord('q')\n",
    "    # If you try to close the window pressing the x you'll get in trouble (^_^)\n",
    "    if cv2.waitKey(3) & 0xff == 27:\n",
    "        break\n",
    "    \n",
    "    \n",
    "# Never forget first to release\n",
    "# And then to destroy\n",
    "cap.release()\n",
    "cv2.destroyAllWindows()\n",
    "\n"
   ]
  },
  {
   "cell_type": "code",
   "execution_count": null,
   "metadata": {},
   "outputs": [],
   "source": []
  }
 ],
 "metadata": {
  "kernelspec": {
   "display_name": "Python 3",
   "language": "python",
   "name": "python3"
  },
  "language_info": {
   "codemirror_mode": {
    "name": "ipython",
    "version": 3
   },
   "file_extension": ".py",
   "mimetype": "text/x-python",
   "name": "python",
   "nbconvert_exporter": "python",
   "pygments_lexer": "ipython3",
   "version": "3.7.4"
  }
 },
 "nbformat": 4,
 "nbformat_minor": 4
}
